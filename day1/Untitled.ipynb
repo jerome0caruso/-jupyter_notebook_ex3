{
 "cells": [
  {
   "cell_type": "code",
   "execution_count": 4,
   "id": "b1c0ef7b",
   "metadata": {},
   "outputs": [],
   "source": [
    "def getBirth():\n",
    "    stones={\n",
    "        1:\"Garnet\",\n",
    "        2:\"Amethyst\",\n",
    "        3:\"Aquamarine\",\n",
    "        4:\"Diamond\",\n",
    "        5:\"Emerald\",\n",
    "        6:\"Pearl\",\n",
    "        7:\"Ruby\",\n",
    "        8:\"Peridot\",\n",
    "        9:\"Sapphire\",\n",
    "        10:\"Opal\",\n",
    "        11:\"Topaz\",\n",
    "        12:\"Turquoise\"\n",
    "    }\n",
    "    birthMonth = input(\"What is your birth Month? \").strip().lower()\n",
    "    print(birthMonth)\n"
   ]
  }
 ],
 "metadata": {
  "kernelspec": {
   "display_name": "Python 3",
   "language": "python",
   "name": "python3"
  },
  "language_info": {
   "codemirror_mode": {
    "name": "ipython",
    "version": 3
   },
   "file_extension": ".py",
   "mimetype": "text/x-python",
   "name": "python",
   "nbconvert_exporter": "python",
   "pygments_lexer": "ipython3",
   "version": "3.8.8"
  }
 },
 "nbformat": 4,
 "nbformat_minor": 5
}
